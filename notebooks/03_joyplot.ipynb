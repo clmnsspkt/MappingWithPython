{
 "cells": [
  {
   "cell_type": "code",
   "execution_count": 2,
   "id": "092980b2",
   "metadata": {},
   "outputs": [
    {
     "name": "stdout",
     "output_type": "stream",
     "text": [
      "\u001b[31mERROR: Could not find a version that satisfies the requirement RidgeMap (from versions: none)\u001b[0m\u001b[31m\n",
      "\u001b[0m\u001b[31mERROR: No matching distribution found for RidgeMap\u001b[0m\u001b[31m\n",
      "\u001b[0mNote: you may need to restart the kernel to use updated packages.\n"
     ]
    }
   ],
   "source": [
    "pip install RidgeMap"
   ]
  },
  {
   "cell_type": "code",
   "execution_count": 1,
   "id": "54afe9f0",
   "metadata": {},
   "outputs": [
    {
     "ename": "ModuleNotFoundError",
     "evalue": "No module named 'ridge_map'",
     "output_type": "error",
     "traceback": [
      "\u001b[0;31m---------------------------------------------------------------------------\u001b[0m",
      "\u001b[0;31mModuleNotFoundError\u001b[0m                       Traceback (most recent call last)",
      "Cell \u001b[0;32mIn[1], line 1\u001b[0m\n\u001b[0;32m----> 1\u001b[0m \u001b[38;5;28;01mfrom\u001b[39;00m \u001b[38;5;21;01mridge_map\u001b[39;00m \u001b[38;5;28;01mimport\u001b[39;00m RidgeMap\n\u001b[1;32m      2\u001b[0m \u001b[38;5;28;01mimport\u001b[39;00m \u001b[38;5;21;01mmatplotlib\u001b[39;00m\u001b[38;5;21;01m.\u001b[39;00m\u001b[38;5;21;01mpyplot\u001b[39;00m \u001b[38;5;28;01mas\u001b[39;00m \u001b[38;5;21;01mplt\u001b[39;00m\n\u001b[1;32m      4\u001b[0m \u001b[38;5;28;01mimport\u001b[39;00m \u001b[38;5;21;01mwarnings\u001b[39;00m\n",
      "\u001b[0;31mModuleNotFoundError\u001b[0m: No module named 'ridge_map'"
     ]
    }
   ],
   "source": [
    "from ridge_map import RidgeMap\n",
    "import matplotlib.pyplot as plt\n",
    "\n",
    "import warnings\n",
    "warnings.filterwarnings(\"ignore\")"
   ]
  },
  {
   "cell_type": "code",
   "execution_count": null,
   "id": "4deea7b7",
   "metadata": {},
   "outputs": [],
   "source": [
    "rm     = RidgeMap((165.058594,-47.635784,179.648438,-34.307144))\n",
    "values = rm.get_elevation_data(num_lines=150)\n",
    "values = rm.preprocess(values=values, \n",
    "                       lake_flatness=2,\n",
    "                       water_ntile=10,\n",
    "                       vertical_ratio=240)"
   ]
  },
  {
   "cell_type": "code",
   "execution_count": null,
   "id": "5ffa0c9c",
   "metadata": {},
   "outputs": [],
   "source": [
    "rm.plot_map(values=values,\n",
    "            label='New Zealand',\n",
    "            label_y=0.1,\n",
    "            label_x=0.55,\n",
    "            label_size=40,\n",
    "            linewidth=1,\n",
    "            line_color = plt.get_cmap('terrain'),\n",
    "            kind='elevation'\n",
    "           )"
   ]
  }
 ],
 "metadata": {
  "kernelspec": {
   "display_name": "Python 3 (ipykernel)",
   "language": "python",
   "name": "python3"
  },
  "language_info": {
   "codemirror_mode": {
    "name": "ipython",
    "version": 3
   },
   "file_extension": ".py",
   "mimetype": "text/x-python",
   "name": "python",
   "nbconvert_exporter": "python",
   "pygments_lexer": "ipython3",
   "version": "3.10.9"
  }
 },
 "nbformat": 4,
 "nbformat_minor": 5
}
